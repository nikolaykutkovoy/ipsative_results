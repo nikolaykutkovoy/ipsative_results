{
 "cells": [
  {
   "cell_type": "code",
   "execution_count": 1,
   "metadata": {},
   "outputs": [],
   "source": [
    "import numpy as np\n",
    "import pandas as pd\n",
    "from scipy.stats import multivariate_normal, norm\n",
    "from scipy import optimize"
   ]
  },
  {
   "cell_type": "markdown",
   "metadata": {},
   "source": [
    "## Определяем целевую функцию"
   ]
  },
  {
   "cell_type": "markdown",
   "metadata": {},
   "source": [
    "Наша цель - оптимизация функции правдоподобия, взвешенную многомерным нормальным распределением. Для начала подготовим данные в удобную для вычисления функции форму."
   ]
  },
  {
   "cell_type": "code",
   "execution_count": 2,
   "metadata": {},
   "outputs": [],
   "source": [
    "def par_matrix(par_df, quest_pair, thresholds, pattern):\n",
    "    '''\n",
    "    Преобразует датафрейм с параметрами вопросов в матрицы\n",
    "    \n",
    "    Input:\n",
    "    par_df - pd.DataFrame с параметрами вопросов (параметры: trait - шкала, к которой относится вопрос; lmbd - факторная нагрузка вопроса \n",
    "    на шкалу,se - стандартная ошибка вопроса). Строки - вопросы, столбцы - параметры\n",
    "    quest_pair - np.array с указанием того, к какой паре и на каком месте относится вопрос. Вопрос справа всегда идет первым в формуле 4\n",
    "    (положительный в формуле), вопрос слева идет вторым в формуле 4 (отрицательным). Строки - вопросы, столбцы - пары\n",
    "    thresholds - np.array с 5 границами для ответов\n",
    "    pattern - np.array размерности число шкал с ответами кандидата на пары (баллы 1, 2, 3, 4, 5)\n",
    "    \n",
    "    Output:\n",
    "    tuple, содержащий:\n",
    "    lmbd_pair_mat - np.array размерности число шкал х число пар с факторными нагрузками, соответствующими парам пунктов\n",
    "    threshold_pairs - np.array размерности число кандидатов х число пар с значениями границ с учетом паттерна ответов\n",
    "    se_pairs - np.array размерности число пар с корнем сумм квадратов стандартных ошибок для вопросов в паре\n",
    "    '''\n",
    "    \n",
    "    #Записываем размерности данных (число шкал, пар и вопросов)\n",
    "    n_traits = len(par_df[\"trait\"].unique().tolist())\n",
    "    n_pairs = quest_pair.shape[1]\n",
    "    n_quest = par_df.shape[0]\n",
    "    \n",
    "    #Распределяем факторные нагрузки по матрице размерности число шкал х число вопросов\n",
    "    lmbd_quest_mat = np.zeros([n_traits, n_quest])\n",
    "    lmbd_quest_mat[par_df[\"trait\"] - 1, par_df.index] = par_df[\"lmbd\"]\n",
    "    \n",
    "    #Сворачиваем факторные нагрузки в матрицу размерности число шкал х число пар с учетом того, какой вопрос предъявляется справа, а какой слева\n",
    "    lmbd_pair_mat = np.dot(lmbd_quest_mat, quest_pair)\n",
    "    \n",
    "    #Распределяем значения границ по ответам кандидата\n",
    "    threshold_pairs = thresholds[pattern - 1]\n",
    "    \n",
    "    #\n",
    "    se_pairs = np.sqrt(np.dot(par_df[\"se\"] ** 2, abs(quest_pair)))\n",
    "    \n",
    "    return lmbd_pair_mat, threshold_pairs, se_pairs"
   ]
  },
  {
   "cell_type": "markdown",
   "metadata": {},
   "source": [
    "Исходя из этого пропишем вычисление функции правдоподобия"
   ]
  },
  {
   "cell_type": "code",
   "execution_count": 3,
   "metadata": {},
   "outputs": [],
   "source": [
    "def loglik_fun(person_par, lmbd_pair_mat, threshold_pairs, se_pairs, sigma, minimize = True):\n",
    "    '''\n",
    "    Считает логарифмическую функцию правдоподобия по результатам кандидата по шкалам опросника и другим фиксированным параметрам\n",
    "    \n",
    "    Input:\n",
    "    person_par - аргумент функции, np.array размерности число шкал с предварительным расчетом результата по шкалам\n",
    "    lmbd_pair_mat - np.array размерности число шкал х число пар с факторными нагрузками, соответствующими парам пунктов\n",
    "    threshold_pairs - np.array размерности число кандидатов х число пар с значениями границ с учетом паттерна ответов\n",
    "    se_pairs - np.array размерности число пар с корнем сумм квадратов стандартных ошибок для вопросов в паре\n",
    "    sigma - np.array размерности число шкал х число шкал - матрица корреляций шкал между собой\n",
    "    minimize - bool, минимизируем мы функцию или максимизируем\n",
    "    \n",
    "    Output:\n",
    "    log_lik_post - float, значение функции правдоподобия в точке person_par\n",
    "    '''\n",
    "    #Необходимые нам размерности\n",
    "    n_traits = person_par.shape[0]\n",
    "    \n",
    "    #Вычисляем значение логарифма плотности многомерного нормального распределения в точке person_par\n",
    "    multinorm_pdf = multivariate_normal.logpdf(person_par, mean = np.zeros(n_traits), cov = sigma)\n",
    "    \n",
    "    #Вычисляем входное значение для вычисления вероятности паттерна ответов\n",
    "    person_lmbd_pairs = np.dot(person_par, lmbd_pair_mat)\n",
    "    numerator = -threshold_pairs + person_lmbd_pairs\n",
    "    probs_input = numerator / se_pairs\n",
    "    \n",
    "    #Вычисляем логарифм вероятностей каждого ответа, использую кумулятивную функцию нормального распределения\n",
    "    log_probs = norm.logcdf(probs_input)\n",
    "    \n",
    "    #Суммируем эти величины\n",
    "    log_lik = np.sum(log_probs)\n",
    "    \n",
    "    #Добавляем взвешивающий компонент\n",
    "    log_lik_post = log_lik + multinorm_pdf\n",
    "    \n",
    "    if minimize:\n",
    "        return -log_lik_post\n",
    "    \n",
    "    return log_lik_post"
   ]
  },
  {
   "cell_type": "markdown",
   "metadata": {},
   "source": [
    "Прописываем градиент функции"
   ]
  },
  {
   "cell_type": "code",
   "execution_count": 4,
   "metadata": {},
   "outputs": [],
   "source": [
    "def loglik_grad(person_par, lmbd_pair_mat, threshold_pairs, se_pairs, sigma, minimize = True):\n",
    "    '''\n",
    "    Рассчитывает градиент логарифмической функции правдоподобия по результатам кандидата по шкалам опросника и другим фиксированным параметрам\n",
    "    \n",
    "    Input:\n",
    "    person_par - аргумент функции, np.array размерности число шкал с предварительным расчетом результата по шкалам\n",
    "    lmbd_pair_mat - np.array размерности число шкал х число пар с факторными нагрузками, соответствующими парам пунктов\n",
    "    threshold_pairs - np.array размерности число кандидатов х число пар с значениями границ с учетом паттерна ответов\n",
    "    se_pairs - np.array размерности число пар с корнем сумм квадратов стандартных ошибок для вопросов в паре\n",
    "    sigma - np.array размерности число шкал х число шкал - матрица корреляций шкал между собой\n",
    "    minimize - bool, минимизируем мы функцию или максимизируем\n",
    "    \n",
    "    Output:\n",
    "    loglik_grad - np.array размерности , каждый элемент которого - это частная производная функции loglik_fun по элементам person_par\n",
    "    '''\n",
    "    \n",
    "    #Вычисляем производную функции многомерного распределения\n",
    "    multinorm_grad = - np.dot(np.linalg.inv(sigma), person_par.T)\n",
    "    \n",
    "    #Вычисляем фактор угла наклона производной для всех пар\n",
    "    trait_pair_grad = lmbd_pair_mat / se_pairs\n",
    "    \n",
    "    #Вычисляем входное значение для вычисления вероятности паттерна ответов\n",
    "    person_lmbd_pairs = np.dot(person_par, lmbd_pair_mat)\n",
    "    numerator = -threshold_pairs + person_lmbd_pairs\n",
    "    probs_input = numerator / se_pairs\n",
    "    \n",
    "    #Вычисляем компоненты градиента, вычисленные по плотности и функции вероятности\n",
    "    density_mult = (norm.pdf(probs_input) / norm.cdf(probs_input))\n",
    "    \n",
    "    #Суммируем все компоненты градиента\n",
    "    loglik_grad = multinorm_grad.T + np.sum(trait_pair_grad * density_mult, axis = 1)\n",
    "    \n",
    "    if minimize:\n",
    "        return -loglik_grad\n",
    "    return loglik_grad\n",
    "    "
   ]
  },
  {
   "cell_type": "markdown",
   "metadata": {},
   "source": [
    "Подгружаем данные - параметры вопросов:"
   ]
  },
  {
   "cell_type": "code",
   "execution_count": 5,
   "metadata": {},
   "outputs": [
    {
     "name": "stdout",
     "output_type": "stream",
     "text": [
      "<class 'pandas.core.frame.DataFrame'>\n",
      "RangeIndex: 60 entries, 0 to 59\n",
      "Data columns (total 3 columns):\n",
      "trait    60 non-null int64\n",
      "lmbd     60 non-null float64\n",
      "se       60 non-null float64\n",
      "dtypes: float64(2), int64(1)\n",
      "memory usage: 1.5 KB\n",
      "None\n"
     ]
    },
    {
     "data": {
      "text/html": [
       "<div>\n",
       "<style scoped>\n",
       "    .dataframe tbody tr th:only-of-type {\n",
       "        vertical-align: middle;\n",
       "    }\n",
       "\n",
       "    .dataframe tbody tr th {\n",
       "        vertical-align: top;\n",
       "    }\n",
       "\n",
       "    .dataframe thead th {\n",
       "        text-align: right;\n",
       "    }\n",
       "</style>\n",
       "<table border=\"1\" class=\"dataframe\">\n",
       "  <thead>\n",
       "    <tr style=\"text-align: right;\">\n",
       "      <th></th>\n",
       "      <th>trait</th>\n",
       "      <th>lmbd</th>\n",
       "      <th>se</th>\n",
       "    </tr>\n",
       "  </thead>\n",
       "  <tbody>\n",
       "    <tr>\n",
       "      <th>0</th>\n",
       "      <td>1</td>\n",
       "      <td>1.0</td>\n",
       "      <td>0.8</td>\n",
       "    </tr>\n",
       "    <tr>\n",
       "      <th>1</th>\n",
       "      <td>1</td>\n",
       "      <td>1.1</td>\n",
       "      <td>0.7</td>\n",
       "    </tr>\n",
       "    <tr>\n",
       "      <th>2</th>\n",
       "      <td>1</td>\n",
       "      <td>0.9</td>\n",
       "      <td>0.6</td>\n",
       "    </tr>\n",
       "    <tr>\n",
       "      <th>3</th>\n",
       "      <td>1</td>\n",
       "      <td>1.2</td>\n",
       "      <td>0.9</td>\n",
       "    </tr>\n",
       "    <tr>\n",
       "      <th>4</th>\n",
       "      <td>1</td>\n",
       "      <td>1.1</td>\n",
       "      <td>1.0</td>\n",
       "    </tr>\n",
       "  </tbody>\n",
       "</table>\n",
       "</div>"
      ],
      "text/plain": [
       "   trait  lmbd   se\n",
       "0      1   1.0  0.8\n",
       "1      1   1.1  0.7\n",
       "2      1   0.9  0.6\n",
       "3      1   1.2  0.9\n",
       "4      1   1.1  1.0"
      ]
     },
     "execution_count": 5,
     "metadata": {},
     "output_type": "execute_result"
    }
   ],
   "source": [
    "par_df = pd.read_csv(\"data/quest_pars2.csv\", sep = \";\")\n",
    "print(par_df.info())\n",
    "par_df.head()"
   ]
  },
  {
   "cell_type": "markdown",
   "metadata": {},
   "source": [
    "Подгружаем матрицу распределения вопросов по парам:"
   ]
  },
  {
   "cell_type": "code",
   "execution_count": 6,
   "metadata": {},
   "outputs": [
    {
     "name": "stdout",
     "output_type": "stream",
     "text": [
      "<class 'pandas.core.frame.DataFrame'>\n",
      "RangeIndex: 60 entries, 0 to 59\n",
      "Data columns (total 30 columns):\n",
      "0     60 non-null int64\n",
      "1     60 non-null int64\n",
      "2     60 non-null int64\n",
      "3     60 non-null int64\n",
      "4     60 non-null int64\n",
      "5     60 non-null int64\n",
      "6     60 non-null int64\n",
      "7     60 non-null int64\n",
      "8     60 non-null int64\n",
      "9     60 non-null int64\n",
      "10    60 non-null int64\n",
      "11    60 non-null int64\n",
      "12    60 non-null int64\n",
      "13    60 non-null int64\n",
      "14    60 non-null int64\n",
      "15    60 non-null int64\n",
      "16    60 non-null int64\n",
      "17    60 non-null int64\n",
      "18    60 non-null int64\n",
      "19    60 non-null int64\n",
      "20    60 non-null int64\n",
      "21    60 non-null int64\n",
      "22    60 non-null int64\n",
      "23    60 non-null int64\n",
      "24    60 non-null int64\n",
      "25    60 non-null int64\n",
      "26    60 non-null int64\n",
      "27    60 non-null int64\n",
      "28    60 non-null int64\n",
      "29    60 non-null int64\n",
      "dtypes: int64(30)\n",
      "memory usage: 14.1 KB\n",
      "None\n",
      "   0   1   2   3   4   5   6   7   8   9  ...  20  21  22  23  24  25  26  27  \\\n",
      "0   0   0   0   0   1   0   0   0   0   0 ...   0   0   0   0   0   0   0   0   \n",
      "1   0   0   0   1   0   0   0   0   0   0 ...   0   0   0   0   0   0   0   0   \n",
      "2   0   0   0   0   0   0   0   0   0   0 ...   0   0   0   0   0   0   0   0   \n",
      "3   0   0   0   0   0   0   0   0   0   0 ...   0   0   0   0   0   0   0   0   \n",
      "4   0   0   0   0   0   0   0   0   0   0 ...   0   1   0   0   0   0   0   0   \n",
      "\n",
      "   28  29  \n",
      "0   0   0  \n",
      "1   0   0  \n",
      "2   0   0  \n",
      "3   0   0  \n",
      "4   0   0  \n",
      "\n",
      "[5 rows x 30 columns]\n"
     ]
    },
    {
     "name": "stderr",
     "output_type": "stream",
     "text": [
      "C:\\Users\\Nikolay\\Anaconda3\\lib\\site-packages\\ipykernel_launcher.py:4: FutureWarning: Method .as_matrix will be removed in a future version. Use .values instead.\n",
      "  after removing the cwd from sys.path.\n"
     ]
    }
   ],
   "source": [
    "quest_pair = pd.read_csv(\"data/quest_pairs3.csv\", sep = \";\", header = None)\n",
    "print(quest_pair.info())\n",
    "print(quest_pair.head())\n",
    "quest_pair = quest_pair.as_matrix()"
   ]
  },
  {
   "cell_type": "markdown",
   "metadata": {},
   "source": [
    "Добавляем значения границ и паттерн ответов, а также оставшиеся параметры на вход функциям"
   ]
  },
  {
   "cell_type": "code",
   "execution_count": 9,
   "metadata": {},
   "outputs": [
    {
     "name": "stderr",
     "output_type": "stream",
     "text": [
      "C:\\Users\\Nikolay\\Anaconda3\\lib\\site-packages\\ipykernel_launcher.py:4: FutureWarning: Method .as_matrix will be removed in a future version. Use .values instead.\n",
      "  after removing the cwd from sys.path.\n"
     ]
    }
   ],
   "source": [
    "threshold = np.array([-1.5, -0.5, 0, 0.5, 1.5])\n",
    "#pattern = np.array([1, 1, 1, 1, 1, 1, 5, 5, 5, 5, 5, 5, 5, 5, 5, 5, 5, 5])\n",
    "\n",
    "patterns = pd.read_csv(\"data/pattern2.csv\", sep = \";\", header = None).as_matrix()\n",
    "pattern0 = patterns[0, :]\n",
    "#pattern1 = patterns[1, :]\n",
    "\n",
    "lmbd_pair_mat, threshold_pairs, se_pairs = par_matrix(par_df, quest_pair, threshold, pattern0)\n",
    "\n",
    "sigma = np.eye(5)\n",
    "minimize = True"
   ]
  },
  {
   "cell_type": "markdown",
   "metadata": {},
   "source": [
    "Инициализируем результаты по шкалам и проверяем расчет функции и градиента"
   ]
  },
  {
   "cell_type": "code",
   "execution_count": 10,
   "metadata": {},
   "outputs": [
    {
     "name": "stdout",
     "output_type": "stream",
     "text": [
      "23.14621427872789\n",
      "[ 1.74007086  1.88928153 -4.03366472 -0.85011454  2.35491526]\n"
     ]
    }
   ],
   "source": [
    "person_par0 = np.zeros(5)\n",
    "\n",
    "print(loglik_fun(person_par0, lmbd_pair_mat, threshold_pairs, se_pairs, sigma, minimize))\n",
    "print(loglik_grad(person_par0, lmbd_pair_mat, threshold_pairs, se_pairs, sigma, minimize))"
   ]
  },
  {
   "cell_type": "markdown",
   "metadata": {},
   "source": [
    "Проверяем правильность расчета градиента с помощью численного метода (результат должен быть близок к 0)"
   ]
  },
  {
   "cell_type": "code",
   "execution_count": 11,
   "metadata": {},
   "outputs": [
    {
     "data": {
      "text/plain": [
       "2.3572067739696156e-07"
      ]
     },
     "execution_count": 11,
     "metadata": {},
     "output_type": "execute_result"
    }
   ],
   "source": [
    "optimize.check_grad(loglik_fun, loglik_grad, person_par0, lmbd_pair_mat, threshold_pairs, se_pairs, sigma, minimize)"
   ]
  },
  {
   "cell_type": "code",
   "execution_count": 12,
   "metadata": {},
   "outputs": [
    {
     "data": {
      "text/plain": [
       "5.946502787994131e-07"
      ]
     },
     "execution_count": 12,
     "metadata": {},
     "output_type": "execute_result"
    }
   ],
   "source": [
    "person_par1 = np.array([1, 0, -1, -2, 2])\n",
    "\n",
    "optimize.check_grad(loglik_fun, loglik_grad, person_par1, lmbd_pair_mat, threshold_pairs, se_pairs, sigma, minimize)"
   ]
  },
  {
   "cell_type": "code",
   "execution_count": 13,
   "metadata": {},
   "outputs": [
    {
     "data": {
      "text/plain": [
       "7.500315919398657e-07"
      ]
     },
     "execution_count": 13,
     "metadata": {},
     "output_type": "execute_result"
    }
   ],
   "source": [
    "person_par2 = np.array([2, 2, 2, 2, 2])\n",
    "\n",
    "optimize.check_grad(loglik_fun, loglik_grad, person_par2, lmbd_pair_mat, threshold_pairs, se_pairs, sigma, minimize)"
   ]
  },
  {
   "cell_type": "markdown",
   "metadata": {},
   "source": [
    "Посмотрим на результаты оптимизации функции - несколько вариантов для проверки"
   ]
  },
  {
   "cell_type": "code",
   "execution_count": 14,
   "metadata": {},
   "outputs": [
    {
     "name": "stdout",
     "output_type": "stream",
     "text": [
      "Optimization terminated successfully.\n",
      "         Current function value: 21.634995\n",
      "         Iterations: 10\n",
      "         Function evaluations: 12\n",
      "         Gradient evaluations: 12\n"
     ]
    },
    {
     "data": {
      "text/plain": [
       "array([-0.25515146, -0.23006901,  0.34332119, -0.06078786, -0.36094884])"
      ]
     },
     "execution_count": 14,
     "metadata": {},
     "output_type": "execute_result"
    }
   ],
   "source": [
    "optimize.fmin_bfgs(loglik_fun, x0 = person_par0, args = (lmbd_pair_mat, threshold_pairs, se_pairs, sigma, minimize), fprime = loglik_grad)"
   ]
  },
  {
   "cell_type": "code",
   "execution_count": 15,
   "metadata": {},
   "outputs": [
    {
     "data": {
      "text/plain": [
       "(array([-0.25514832, -0.23007063,  0.34332018, -0.06078586, -0.36094811]),\n",
       " 21.634995046271797,\n",
       " {'grad': array([ 2.49824798e-05, -2.12934305e-05, -1.19050971e-05,  1.55958236e-05,\n",
       "         -1.25487557e-06]),\n",
       "  'task': b'CONVERGENCE: REL_REDUCTION_OF_F_<=_FACTR*EPSMCH',\n",
       "  'funcalls': 12,\n",
       "  'nit': 10,\n",
       "  'warnflag': 0})"
      ]
     },
     "execution_count": 15,
     "metadata": {},
     "output_type": "execute_result"
    }
   ],
   "source": [
    "optimize.fmin_l_bfgs_b(loglik_fun, x0 = person_par0, args = (lmbd_pair_mat, threshold_pairs, se_pairs, sigma, minimize), fprime = loglik_grad)"
   ]
  },
  {
   "cell_type": "code",
   "execution_count": 16,
   "metadata": {},
   "outputs": [
    {
     "data": {
      "text/plain": [
       "      fun: 21.634995046271797\n",
       " hess_inv: <5x5 LbfgsInvHessProduct with dtype=float64>\n",
       "      jac: array([ 2.49824798e-05, -2.12934305e-05, -1.19050971e-05,  1.55958236e-05,\n",
       "       -1.25487557e-06])\n",
       "  message: b'CONVERGENCE: REL_REDUCTION_OF_F_<=_FACTR*EPSMCH'\n",
       "     nfev: 12\n",
       "      nit: 10\n",
       "   status: 0\n",
       "  success: True\n",
       "        x: array([-0.25514832, -0.23007063,  0.34332018, -0.06078586, -0.36094811])"
      ]
     },
     "execution_count": 16,
     "metadata": {},
     "output_type": "execute_result"
    }
   ],
   "source": [
    "optimize.minimize(loglik_fun, x0 = person_par0, args = (lmbd_pair_mat, threshold_pairs, se_pairs, sigma, minimize), jac = loglik_grad, method = \"L-BFGS-B\")"
   ]
  },
  {
   "cell_type": "code",
   "execution_count": 17,
   "metadata": {},
   "outputs": [
    {
     "name": "stdout",
     "output_type": "stream",
     "text": [
      "{'commit_hash': '2e1cca5bc',\n",
      " 'commit_source': 'installation',\n",
      " 'default_encoding': '1251',\n",
      " 'ipython_path': 'C:\\\\Users\\\\Nikolay\\\\Anaconda3\\\\lib\\\\site-packages\\\\IPython',\n",
      " 'ipython_version': '7.3.0',\n",
      " 'os_name': 'nt',\n",
      " 'platform': 'Windows-10-10.0.17763-SP0',\n",
      " 'sys_executable': 'C:\\\\Users\\\\Nikolay\\\\Anaconda3\\\\python.exe',\n",
      " 'sys_platform': 'win32',\n",
      " 'sys_version': '3.7.2 (default, Feb 21 2019, 17:35:59) [MSC v.1915 64 bit '\n",
      "                '(AMD64)]'}\n"
     ]
    }
   ],
   "source": [
    "import IPython\n",
    "\n",
    "print(IPython.sys_info())"
   ]
  },
  {
   "cell_type": "code",
   "execution_count": null,
   "metadata": {},
   "outputs": [],
   "source": []
  }
 ],
 "metadata": {
  "kernelspec": {
   "display_name": "Python 3",
   "language": "python",
   "name": "python3"
  },
  "language_info": {
   "codemirror_mode": {
    "name": "ipython",
    "version": 3
   },
   "file_extension": ".py",
   "mimetype": "text/x-python",
   "name": "python",
   "nbconvert_exporter": "python",
   "pygments_lexer": "ipython3",
   "version": "3.7.2"
  }
 },
 "nbformat": 4,
 "nbformat_minor": 2
}
